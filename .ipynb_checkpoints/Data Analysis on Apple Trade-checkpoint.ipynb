{
 "cells": [
  {
   "cell_type": "markdown",
   "id": "a1298c62",
   "metadata": {},
   "source": [
    "Installing the yfinance libreary to extract the data from Yahoo Finance\n",
    "\n",
    "Yahoo Finance (yfinance): A great source for stock market data, including historical stock prices, dividends, and financial indicators"
   ]
  },
  {
   "cell_type": "markdown",
   "id": "cea54cdc",
   "metadata": {},
   "source": [
    "!pip install yfinance"
   ]
  },
  {
   "cell_type": "code",
   "execution_count": 106,
   "id": "b68f70a0",
   "metadata": {},
   "outputs": [],
   "source": [
    "import yfinance as yf\n",
    "import pandas as pd\n"
   ]
  },
  {
   "cell_type": "markdown",
   "id": "b7f35f8d",
   "metadata": {},
   "source": [
    "#### # Download stock data for Apple (AAPL) from 2020-01-01 to the current date\n"
   ]
  },
  {
   "cell_type": "code",
   "execution_count": 211,
   "id": "9a5937ce",
   "metadata": {},
   "outputs": [
    {
     "name": "stderr",
     "output_type": "stream",
     "text": [
      "[*********************100%***********************]  1 of 1 completed\n"
     ]
    }
   ],
   "source": [
    "data = yf.download('AAPL', start='2020-01-01', end='2025-01-01')\n"
   ]
  },
  {
   "cell_type": "code",
   "execution_count": null,
   "id": "993e4b60",
   "metadata": {},
   "outputs": [],
   "source": []
  },
  {
   "cell_type": "code",
   "execution_count": 212,
   "id": "bce15171",
   "metadata": {},
   "outputs": [],
   "source": [
    "#Creating the dataframe\n",
    "df = pd.DataFrame(data)"
   ]
  },
  {
   "cell_type": "code",
   "execution_count": 213,
   "id": "e47dc5d0",
   "metadata": {},
   "outputs": [
    {
     "data": {
      "text/html": [
       "<div>\n",
       "<style scoped>\n",
       "    .dataframe tbody tr th:only-of-type {\n",
       "        vertical-align: middle;\n",
       "    }\n",
       "\n",
       "    .dataframe tbody tr th {\n",
       "        vertical-align: top;\n",
       "    }\n",
       "\n",
       "    .dataframe thead tr th {\n",
       "        text-align: left;\n",
       "    }\n",
       "\n",
       "    .dataframe thead tr:last-of-type th {\n",
       "        text-align: right;\n",
       "    }\n",
       "</style>\n",
       "<table border=\"1\" class=\"dataframe\">\n",
       "  <thead>\n",
       "    <tr>\n",
       "      <th>Price</th>\n",
       "      <th>Close</th>\n",
       "      <th>High</th>\n",
       "      <th>Low</th>\n",
       "      <th>Open</th>\n",
       "      <th>Volume</th>\n",
       "    </tr>\n",
       "    <tr>\n",
       "      <th>Ticker</th>\n",
       "      <th>AAPL</th>\n",
       "      <th>AAPL</th>\n",
       "      <th>AAPL</th>\n",
       "      <th>AAPL</th>\n",
       "      <th>AAPL</th>\n",
       "    </tr>\n",
       "    <tr>\n",
       "      <th>Date</th>\n",
       "      <th></th>\n",
       "      <th></th>\n",
       "      <th></th>\n",
       "      <th></th>\n",
       "      <th></th>\n",
       "    </tr>\n",
       "  </thead>\n",
       "  <tbody>\n",
       "    <tr>\n",
       "      <th>2020-01-02</th>\n",
       "      <td>72.716072</td>\n",
       "      <td>72.776598</td>\n",
       "      <td>71.466812</td>\n",
       "      <td>71.721019</td>\n",
       "      <td>135480400</td>\n",
       "    </tr>\n",
       "    <tr>\n",
       "      <th>2020-01-03</th>\n",
       "      <td>72.009087</td>\n",
       "      <td>72.771714</td>\n",
       "      <td>71.783931</td>\n",
       "      <td>71.941298</td>\n",
       "      <td>146322800</td>\n",
       "    </tr>\n",
       "    <tr>\n",
       "      <th>2020-01-06</th>\n",
       "      <td>72.582909</td>\n",
       "      <td>72.621646</td>\n",
       "      <td>70.876075</td>\n",
       "      <td>71.127866</td>\n",
       "      <td>118387200</td>\n",
       "    </tr>\n",
       "    <tr>\n",
       "      <th>2020-01-07</th>\n",
       "      <td>72.241539</td>\n",
       "      <td>72.849216</td>\n",
       "      <td>72.021223</td>\n",
       "      <td>72.592586</td>\n",
       "      <td>108872000</td>\n",
       "    </tr>\n",
       "    <tr>\n",
       "      <th>2020-01-08</th>\n",
       "      <td>73.403656</td>\n",
       "      <td>73.706287</td>\n",
       "      <td>71.943766</td>\n",
       "      <td>71.943766</td>\n",
       "      <td>132079200</td>\n",
       "    </tr>\n",
       "  </tbody>\n",
       "</table>\n",
       "</div>"
      ],
      "text/plain": [
       "Price           Close       High        Low       Open     Volume\n",
       "Ticker           AAPL       AAPL       AAPL       AAPL       AAPL\n",
       "Date                                                             \n",
       "2020-01-02  72.716072  72.776598  71.466812  71.721019  135480400\n",
       "2020-01-03  72.009087  72.771714  71.783931  71.941298  146322800\n",
       "2020-01-06  72.582909  72.621646  70.876075  71.127866  118387200\n",
       "2020-01-07  72.241539  72.849216  72.021223  72.592586  108872000\n",
       "2020-01-08  73.403656  73.706287  71.943766  71.943766  132079200"
      ]
     },
     "execution_count": 213,
     "metadata": {},
     "output_type": "execute_result"
    }
   ],
   "source": [
    "df.head()"
   ]
  },
  {
   "cell_type": "markdown",
   "id": "32fa1f94",
   "metadata": {},
   "source": [
    "### Understanding of Data\n",
    "#### This will give you historical stock data for Apple (AAPL) between the given start and end dates. The columns typically include:\n",
    "\n",
    "Open: The opening price.\n",
    "\n",
    "High: The highest price of the day.\n",
    "\n",
    "Low: The lowest price of the day.\n",
    "\n",
    "Close: The closing price.\n",
    "\n",
    "Volume: The trading volume."
   ]
  },
  {
   "cell_type": "markdown",
   "id": "10770bee",
   "metadata": {},
   "source": [
    "####  Volume: The trading volume. \n",
    "--> Trading volume is just the total number of items (like stocks, shares, or cryptocurrency) that are bought and sold in a certain period of time. It shows how much activity there is in the market for that item.\n",
    "\n",
    "For example, if 1000 shares of a stock are bought and sold today, the trading volume is 1000.\n",
    "\n",
    "High trading volume means there’s a lot of interest in that item, and low volume means fewer people are buying or selling it. It's useful for understanding how popular or active something is in the market."
   ]
  },
  {
   "cell_type": "code",
   "execution_count": 214,
   "id": "6301a574",
   "metadata": {},
   "outputs": [
    {
     "data": {
      "text/plain": [
       "MultiIndex([( 'Close', 'AAPL'),\n",
       "            (  'High', 'AAPL'),\n",
       "            (   'Low', 'AAPL'),\n",
       "            (  'Open', 'AAPL'),\n",
       "            ('Volume', 'AAPL')],\n",
       "           names=['Price', 'Ticker'])"
      ]
     },
     "execution_count": 214,
     "metadata": {},
     "output_type": "execute_result"
    }
   ],
   "source": [
    "df.columns"
   ]
  },
  {
   "cell_type": "markdown",
   "id": "d4907fa3",
   "metadata": {},
   "source": [
    "So, Its a multi_Index data we can also work with the multiIndex \n",
    "but we will convert it to single index \n",
    "\n",
    "(A MultiIndex in Pandas refers to an index with multiple levels (also called a hierarchical index) that allows you to represent and work with more complex data structures.)\n",
    "\n",
    "Before that lets create a copy of our Dataframe"
   ]
  },
  {
   "cell_type": "code",
   "execution_count": 215,
   "id": "aacfa6c5",
   "metadata": {},
   "outputs": [],
   "source": [
    "df1 = df.copy()"
   ]
  },
  {
   "cell_type": "code",
   "execution_count": 216,
   "id": "49c985eb",
   "metadata": {},
   "outputs": [],
   "source": [
    "# Convert MultiIndex columns to a single level by combining the names\n",
    "df1.columns = [' '.join(col) for col in df.columns]\n"
   ]
  },
  {
   "cell_type": "markdown",
   "id": "884d5f25",
   "metadata": {},
   "source": [
    "So now its a single Level data. Now, we can perform the analysis "
   ]
  },
  {
   "cell_type": "code",
   "execution_count": 217,
   "id": "4f23d3eb",
   "metadata": {},
   "outputs": [
    {
     "data": {
      "text/html": [
       "<div>\n",
       "<style scoped>\n",
       "    .dataframe tbody tr th:only-of-type {\n",
       "        vertical-align: middle;\n",
       "    }\n",
       "\n",
       "    .dataframe tbody tr th {\n",
       "        vertical-align: top;\n",
       "    }\n",
       "\n",
       "    .dataframe thead th {\n",
       "        text-align: right;\n",
       "    }\n",
       "</style>\n",
       "<table border=\"1\" class=\"dataframe\">\n",
       "  <thead>\n",
       "    <tr style=\"text-align: right;\">\n",
       "      <th></th>\n",
       "      <th>Close AAPL</th>\n",
       "      <th>High AAPL</th>\n",
       "      <th>Low AAPL</th>\n",
       "      <th>Open AAPL</th>\n",
       "      <th>Volume AAPL</th>\n",
       "    </tr>\n",
       "    <tr>\n",
       "      <th>Date</th>\n",
       "      <th></th>\n",
       "      <th></th>\n",
       "      <th></th>\n",
       "      <th></th>\n",
       "      <th></th>\n",
       "    </tr>\n",
       "  </thead>\n",
       "  <tbody>\n",
       "    <tr>\n",
       "      <th>2020-01-02</th>\n",
       "      <td>72.716072</td>\n",
       "      <td>72.776598</td>\n",
       "      <td>71.466812</td>\n",
       "      <td>71.721019</td>\n",
       "      <td>135480400</td>\n",
       "    </tr>\n",
       "    <tr>\n",
       "      <th>2020-01-03</th>\n",
       "      <td>72.009087</td>\n",
       "      <td>72.771714</td>\n",
       "      <td>71.783931</td>\n",
       "      <td>71.941298</td>\n",
       "      <td>146322800</td>\n",
       "    </tr>\n",
       "    <tr>\n",
       "      <th>2020-01-06</th>\n",
       "      <td>72.582909</td>\n",
       "      <td>72.621646</td>\n",
       "      <td>70.876075</td>\n",
       "      <td>71.127866</td>\n",
       "      <td>118387200</td>\n",
       "    </tr>\n",
       "    <tr>\n",
       "      <th>2020-01-07</th>\n",
       "      <td>72.241539</td>\n",
       "      <td>72.849216</td>\n",
       "      <td>72.021223</td>\n",
       "      <td>72.592586</td>\n",
       "      <td>108872000</td>\n",
       "    </tr>\n",
       "    <tr>\n",
       "      <th>2020-01-08</th>\n",
       "      <td>73.403656</td>\n",
       "      <td>73.706287</td>\n",
       "      <td>71.943766</td>\n",
       "      <td>71.943766</td>\n",
       "      <td>132079200</td>\n",
       "    </tr>\n",
       "  </tbody>\n",
       "</table>\n",
       "</div>"
      ],
      "text/plain": [
       "            Close AAPL  High AAPL   Low AAPL  Open AAPL  Volume AAPL\n",
       "Date                                                                \n",
       "2020-01-02   72.716072  72.776598  71.466812  71.721019    135480400\n",
       "2020-01-03   72.009087  72.771714  71.783931  71.941298    146322800\n",
       "2020-01-06   72.582909  72.621646  70.876075  71.127866    118387200\n",
       "2020-01-07   72.241539  72.849216  72.021223  72.592586    108872000\n",
       "2020-01-08   73.403656  73.706287  71.943766  71.943766    132079200"
      ]
     },
     "execution_count": 217,
     "metadata": {},
     "output_type": "execute_result"
    }
   ],
   "source": [
    "df1.head()"
   ]
  },
  {
   "cell_type": "markdown",
   "id": "465b820d",
   "metadata": {},
   "source": [
    "still date is a index but we dont want it \n",
    "\n",
    "Before that lets create a copy of dataframe "
   ]
  },
  {
   "cell_type": "code",
   "execution_count": 218,
   "id": "21619d30",
   "metadata": {},
   "outputs": [],
   "source": [
    "df1 = df1.reset_index()"
   ]
  },
  {
   "cell_type": "code",
   "execution_count": 219,
   "id": "69b7e9df",
   "metadata": {},
   "outputs": [
    {
     "data": {
      "text/html": [
       "<div>\n",
       "<style scoped>\n",
       "    .dataframe tbody tr th:only-of-type {\n",
       "        vertical-align: middle;\n",
       "    }\n",
       "\n",
       "    .dataframe tbody tr th {\n",
       "        vertical-align: top;\n",
       "    }\n",
       "\n",
       "    .dataframe thead th {\n",
       "        text-align: right;\n",
       "    }\n",
       "</style>\n",
       "<table border=\"1\" class=\"dataframe\">\n",
       "  <thead>\n",
       "    <tr style=\"text-align: right;\">\n",
       "      <th></th>\n",
       "      <th>Date</th>\n",
       "      <th>Close AAPL</th>\n",
       "      <th>High AAPL</th>\n",
       "      <th>Low AAPL</th>\n",
       "      <th>Open AAPL</th>\n",
       "      <th>Volume AAPL</th>\n",
       "    </tr>\n",
       "  </thead>\n",
       "  <tbody>\n",
       "    <tr>\n",
       "      <th>0</th>\n",
       "      <td>2020-01-02</td>\n",
       "      <td>72.716072</td>\n",
       "      <td>72.776598</td>\n",
       "      <td>71.466812</td>\n",
       "      <td>71.721019</td>\n",
       "      <td>135480400</td>\n",
       "    </tr>\n",
       "    <tr>\n",
       "      <th>1</th>\n",
       "      <td>2020-01-03</td>\n",
       "      <td>72.009087</td>\n",
       "      <td>72.771714</td>\n",
       "      <td>71.783931</td>\n",
       "      <td>71.941298</td>\n",
       "      <td>146322800</td>\n",
       "    </tr>\n",
       "    <tr>\n",
       "      <th>2</th>\n",
       "      <td>2020-01-06</td>\n",
       "      <td>72.582909</td>\n",
       "      <td>72.621646</td>\n",
       "      <td>70.876075</td>\n",
       "      <td>71.127866</td>\n",
       "      <td>118387200</td>\n",
       "    </tr>\n",
       "    <tr>\n",
       "      <th>3</th>\n",
       "      <td>2020-01-07</td>\n",
       "      <td>72.241539</td>\n",
       "      <td>72.849216</td>\n",
       "      <td>72.021223</td>\n",
       "      <td>72.592586</td>\n",
       "      <td>108872000</td>\n",
       "    </tr>\n",
       "    <tr>\n",
       "      <th>4</th>\n",
       "      <td>2020-01-08</td>\n",
       "      <td>73.403656</td>\n",
       "      <td>73.706287</td>\n",
       "      <td>71.943766</td>\n",
       "      <td>71.943766</td>\n",
       "      <td>132079200</td>\n",
       "    </tr>\n",
       "  </tbody>\n",
       "</table>\n",
       "</div>"
      ],
      "text/plain": [
       "        Date  Close AAPL  High AAPL   Low AAPL  Open AAPL  Volume AAPL\n",
       "0 2020-01-02   72.716072  72.776598  71.466812  71.721019    135480400\n",
       "1 2020-01-03   72.009087  72.771714  71.783931  71.941298    146322800\n",
       "2 2020-01-06   72.582909  72.621646  70.876075  71.127866    118387200\n",
       "3 2020-01-07   72.241539  72.849216  72.021223  72.592586    108872000\n",
       "4 2020-01-08   73.403656  73.706287  71.943766  71.943766    132079200"
      ]
     },
     "execution_count": 219,
     "metadata": {},
     "output_type": "execute_result"
    }
   ],
   "source": [
    "df1.head()"
   ]
  },
  {
   "cell_type": "code",
   "execution_count": null,
   "id": "705f869d",
   "metadata": {},
   "outputs": [],
   "source": []
  },
  {
   "cell_type": "code",
   "execution_count": null,
   "id": "58247d8f",
   "metadata": {},
   "outputs": [],
   "source": []
  },
  {
   "cell_type": "markdown",
   "id": "086e3a3d",
   "metadata": {},
   "source": [
    "#### Chaning the column names "
   ]
  },
  {
   "cell_type": "code",
   "execution_count": 220,
   "id": "9d03eb42",
   "metadata": {},
   "outputs": [],
   "source": [
    "df1.columns = df1.columns.str.replace(' AAPL', '')"
   ]
  },
  {
   "cell_type": "code",
   "execution_count": 221,
   "id": "1e1e2f5a",
   "metadata": {},
   "outputs": [
    {
     "data": {
      "text/html": [
       "<div>\n",
       "<style scoped>\n",
       "    .dataframe tbody tr th:only-of-type {\n",
       "        vertical-align: middle;\n",
       "    }\n",
       "\n",
       "    .dataframe tbody tr th {\n",
       "        vertical-align: top;\n",
       "    }\n",
       "\n",
       "    .dataframe thead th {\n",
       "        text-align: right;\n",
       "    }\n",
       "</style>\n",
       "<table border=\"1\" class=\"dataframe\">\n",
       "  <thead>\n",
       "    <tr style=\"text-align: right;\">\n",
       "      <th></th>\n",
       "      <th>Date</th>\n",
       "      <th>Closing_Price</th>\n",
       "      <th>Heighest_Price</th>\n",
       "      <th>Lowest_Price</th>\n",
       "      <th>Opeaning_Price</th>\n",
       "      <th>Treading_Volume</th>\n",
       "    </tr>\n",
       "  </thead>\n",
       "  <tbody>\n",
       "    <tr>\n",
       "      <th>0</th>\n",
       "      <td>2020-01-02</td>\n",
       "      <td>72.716072</td>\n",
       "      <td>72.776598</td>\n",
       "      <td>71.466812</td>\n",
       "      <td>71.721019</td>\n",
       "      <td>135480400</td>\n",
       "    </tr>\n",
       "    <tr>\n",
       "      <th>1</th>\n",
       "      <td>2020-01-03</td>\n",
       "      <td>72.009087</td>\n",
       "      <td>72.771714</td>\n",
       "      <td>71.783931</td>\n",
       "      <td>71.941298</td>\n",
       "      <td>146322800</td>\n",
       "    </tr>\n",
       "    <tr>\n",
       "      <th>2</th>\n",
       "      <td>2020-01-06</td>\n",
       "      <td>72.582909</td>\n",
       "      <td>72.621646</td>\n",
       "      <td>70.876075</td>\n",
       "      <td>71.127866</td>\n",
       "      <td>118387200</td>\n",
       "    </tr>\n",
       "    <tr>\n",
       "      <th>3</th>\n",
       "      <td>2020-01-07</td>\n",
       "      <td>72.241539</td>\n",
       "      <td>72.849216</td>\n",
       "      <td>72.021223</td>\n",
       "      <td>72.592586</td>\n",
       "      <td>108872000</td>\n",
       "    </tr>\n",
       "    <tr>\n",
       "      <th>4</th>\n",
       "      <td>2020-01-08</td>\n",
       "      <td>73.403656</td>\n",
       "      <td>73.706287</td>\n",
       "      <td>71.943766</td>\n",
       "      <td>71.943766</td>\n",
       "      <td>132079200</td>\n",
       "    </tr>\n",
       "    <tr>\n",
       "      <th>...</th>\n",
       "      <td>...</td>\n",
       "      <td>...</td>\n",
       "      <td>...</td>\n",
       "      <td>...</td>\n",
       "      <td>...</td>\n",
       "      <td>...</td>\n",
       "    </tr>\n",
       "    <tr>\n",
       "      <th>1253</th>\n",
       "      <td>2024-12-24</td>\n",
       "      <td>257.916443</td>\n",
       "      <td>257.926411</td>\n",
       "      <td>255.009620</td>\n",
       "      <td>255.209412</td>\n",
       "      <td>23234700</td>\n",
       "    </tr>\n",
       "    <tr>\n",
       "      <th>1254</th>\n",
       "      <td>2024-12-26</td>\n",
       "      <td>258.735504</td>\n",
       "      <td>259.814335</td>\n",
       "      <td>257.347047</td>\n",
       "      <td>257.906429</td>\n",
       "      <td>27237100</td>\n",
       "    </tr>\n",
       "    <tr>\n",
       "      <th>1255</th>\n",
       "      <td>2024-12-27</td>\n",
       "      <td>255.309296</td>\n",
       "      <td>258.415896</td>\n",
       "      <td>252.782075</td>\n",
       "      <td>257.546826</td>\n",
       "      <td>42355300</td>\n",
       "    </tr>\n",
       "    <tr>\n",
       "      <th>1256</th>\n",
       "      <td>2024-12-30</td>\n",
       "      <td>251.923019</td>\n",
       "      <td>253.221595</td>\n",
       "      <td>250.474615</td>\n",
       "      <td>251.952985</td>\n",
       "      <td>35557500</td>\n",
       "    </tr>\n",
       "    <tr>\n",
       "      <th>1257</th>\n",
       "      <td>2024-12-31</td>\n",
       "      <td>250.144974</td>\n",
       "      <td>253.001833</td>\n",
       "      <td>249.156056</td>\n",
       "      <td>252.162760</td>\n",
       "      <td>39480700</td>\n",
       "    </tr>\n",
       "  </tbody>\n",
       "</table>\n",
       "<p>1258 rows × 6 columns</p>\n",
       "</div>"
      ],
      "text/plain": [
       "           Date  Closing_Price  Heighest_Price  Lowest_Price  Opeaning_Price  \\\n",
       "0    2020-01-02      72.716072       72.776598     71.466812       71.721019   \n",
       "1    2020-01-03      72.009087       72.771714     71.783931       71.941298   \n",
       "2    2020-01-06      72.582909       72.621646     70.876075       71.127866   \n",
       "3    2020-01-07      72.241539       72.849216     72.021223       72.592586   \n",
       "4    2020-01-08      73.403656       73.706287     71.943766       71.943766   \n",
       "...         ...            ...             ...           ...             ...   \n",
       "1253 2024-12-24     257.916443      257.926411    255.009620      255.209412   \n",
       "1254 2024-12-26     258.735504      259.814335    257.347047      257.906429   \n",
       "1255 2024-12-27     255.309296      258.415896    252.782075      257.546826   \n",
       "1256 2024-12-30     251.923019      253.221595    250.474615      251.952985   \n",
       "1257 2024-12-31     250.144974      253.001833    249.156056      252.162760   \n",
       "\n",
       "      Treading_Volume  \n",
       "0           135480400  \n",
       "1           146322800  \n",
       "2           118387200  \n",
       "3           108872000  \n",
       "4           132079200  \n",
       "...               ...  \n",
       "1253         23234700  \n",
       "1254         27237100  \n",
       "1255         42355300  \n",
       "1256         35557500  \n",
       "1257         39480700  \n",
       "\n",
       "[1258 rows x 6 columns]"
      ]
     },
     "execution_count": 221,
     "metadata": {},
     "output_type": "execute_result"
    }
   ],
   "source": [
    "df1.rename(columns={'Close':'Closing_Price',\n",
    "                   'High': 'Heighest_Price',\n",
    "                   'Low':'Lowest_Price',\n",
    "                   'Open':'Opeaning_Price',\n",
    "                   'Volume':'Treading_Volume'}, inplace = True)\n",
    "df1"
   ]
  },
  {
   "cell_type": "markdown",
   "id": "d5da18f6",
   "metadata": {},
   "source": [
    "### Saving the file to the PC  "
   ]
  },
  {
   "cell_type": "code",
   "execution_count": 222,
   "id": "09d16481",
   "metadata": {},
   "outputs": [],
   "source": [
    "df1.to_csv(r'C:\\Users\\abhi\\Desktop\\Github upload projects\\Domain wise projects\\Financial\\Apple data extracted from yahoo/Apple_Data.CSV', index = False)"
   ]
  },
  {
   "cell_type": "code",
   "execution_count": 223,
   "id": "e503cb29",
   "metadata": {},
   "outputs": [],
   "source": [
    "import pandas as pd\n",
    "file = pd.read_csv('Apple_Data.csv')\n"
   ]
  },
  {
   "cell_type": "code",
   "execution_count": 224,
   "id": "e5db3077",
   "metadata": {},
   "outputs": [],
   "source": [
    "df = pd.DataFrame(file)"
   ]
  },
  {
   "cell_type": "code",
   "execution_count": 225,
   "id": "2a4f2de5",
   "metadata": {},
   "outputs": [
    {
     "data": {
      "text/html": [
       "<div>\n",
       "<style scoped>\n",
       "    .dataframe tbody tr th:only-of-type {\n",
       "        vertical-align: middle;\n",
       "    }\n",
       "\n",
       "    .dataframe tbody tr th {\n",
       "        vertical-align: top;\n",
       "    }\n",
       "\n",
       "    .dataframe thead th {\n",
       "        text-align: right;\n",
       "    }\n",
       "</style>\n",
       "<table border=\"1\" class=\"dataframe\">\n",
       "  <thead>\n",
       "    <tr style=\"text-align: right;\">\n",
       "      <th></th>\n",
       "      <th>Date</th>\n",
       "      <th>Closing_Price</th>\n",
       "      <th>Heighest_Price</th>\n",
       "      <th>Lowest_Price</th>\n",
       "      <th>Opeaning_Price</th>\n",
       "      <th>Treading_Volume</th>\n",
       "    </tr>\n",
       "  </thead>\n",
       "  <tbody>\n",
       "    <tr>\n",
       "      <th>0</th>\n",
       "      <td>2020-01-02</td>\n",
       "      <td>72.716072</td>\n",
       "      <td>72.776598</td>\n",
       "      <td>71.466812</td>\n",
       "      <td>71.721019</td>\n",
       "      <td>135480400</td>\n",
       "    </tr>\n",
       "    <tr>\n",
       "      <th>1</th>\n",
       "      <td>2020-01-03</td>\n",
       "      <td>72.009087</td>\n",
       "      <td>72.771714</td>\n",
       "      <td>71.783931</td>\n",
       "      <td>71.941298</td>\n",
       "      <td>146322800</td>\n",
       "    </tr>\n",
       "    <tr>\n",
       "      <th>2</th>\n",
       "      <td>2020-01-06</td>\n",
       "      <td>72.582909</td>\n",
       "      <td>72.621646</td>\n",
       "      <td>70.876075</td>\n",
       "      <td>71.127866</td>\n",
       "      <td>118387200</td>\n",
       "    </tr>\n",
       "    <tr>\n",
       "      <th>3</th>\n",
       "      <td>2020-01-07</td>\n",
       "      <td>72.241539</td>\n",
       "      <td>72.849216</td>\n",
       "      <td>72.021223</td>\n",
       "      <td>72.592586</td>\n",
       "      <td>108872000</td>\n",
       "    </tr>\n",
       "    <tr>\n",
       "      <th>4</th>\n",
       "      <td>2020-01-08</td>\n",
       "      <td>73.403656</td>\n",
       "      <td>73.706287</td>\n",
       "      <td>71.943766</td>\n",
       "      <td>71.943766</td>\n",
       "      <td>132079200</td>\n",
       "    </tr>\n",
       "  </tbody>\n",
       "</table>\n",
       "</div>"
      ],
      "text/plain": [
       "         Date  Closing_Price  Heighest_Price  Lowest_Price  Opeaning_Price  \\\n",
       "0  2020-01-02      72.716072       72.776598     71.466812       71.721019   \n",
       "1  2020-01-03      72.009087       72.771714     71.783931       71.941298   \n",
       "2  2020-01-06      72.582909       72.621646     70.876075       71.127866   \n",
       "3  2020-01-07      72.241539       72.849216     72.021223       72.592586   \n",
       "4  2020-01-08      73.403656       73.706287     71.943766       71.943766   \n",
       "\n",
       "   Treading_Volume  \n",
       "0        135480400  \n",
       "1        146322800  \n",
       "2        118387200  \n",
       "3        108872000  \n",
       "4        132079200  "
      ]
     },
     "execution_count": 225,
     "metadata": {},
     "output_type": "execute_result"
    }
   ],
   "source": [
    "df.head()"
   ]
  },
  {
   "cell_type": "markdown",
   "id": "8b3016eb",
   "metadata": {},
   "source": [
    "# Data Cleaning\n",
    "### creating a copy of dataset\n"
   ]
  },
  {
   "cell_type": "code",
   "execution_count": 297,
   "id": "f9a0f1c7",
   "metadata": {},
   "outputs": [],
   "source": [
    "df1 = df.copy()\n"
   ]
  },
  {
   "cell_type": "code",
   "execution_count": 298,
   "id": "f9bc11f9",
   "metadata": {},
   "outputs": [
    {
     "data": {
      "text/plain": [
       "Date               0\n",
       "Closing_Price      0\n",
       "Heighest_Price     0\n",
       "Lowest_Price       0\n",
       "Opeaning_Price     0\n",
       "Treading_Volume    0\n",
       "dtype: int64"
      ]
     },
     "execution_count": 298,
     "metadata": {},
     "output_type": "execute_result"
    }
   ],
   "source": [
    "#Cheacking for null values \n",
    "df1.isnull().sum()"
   ]
  },
  {
   "cell_type": "code",
   "execution_count": 299,
   "id": "a2925e76",
   "metadata": {},
   "outputs": [
    {
     "data": {
      "text/plain": [
       "0"
      ]
     },
     "execution_count": 299,
     "metadata": {},
     "output_type": "execute_result"
    }
   ],
   "source": [
    "#Cheacking for Duplicate rows values \n",
    "df1.duplicated().sum()"
   ]
  },
  {
   "cell_type": "code",
   "execution_count": 300,
   "id": "ed90b4b0",
   "metadata": {},
   "outputs": [
    {
     "data": {
      "text/plain": [
       "Date               datetime64[ns]\n",
       "Closing_Price             float64\n",
       "Heighest_Price            float64\n",
       "Lowest_Price              float64\n",
       "Opeaning_Price            float64\n",
       "Treading_Volume             int64\n",
       "dtype: object"
      ]
     },
     "execution_count": 300,
     "metadata": {},
     "output_type": "execute_result"
    }
   ],
   "source": [
    "# #Cheacking for Datatypes \n",
    "df1['Date'] = pd.to_datetime(df1['Date'])\n",
    "df1.dtypes\n"
   ]
  },
  {
   "cell_type": "code",
   "execution_count": 301,
   "id": "8691cbd0",
   "metadata": {},
   "outputs": [],
   "source": [
    "#rounding float_data_types to 2\n",
    "df1['Closing_Price'] = df1['Closing_Price'].round(2)\n",
    "df1['Heighest_Price'] = df1['Heighest_Price'].round(2)\n",
    "df1['Lowest_Price'] = df1['Lowest_Price'].round(2)\n",
    "df1['Opeaning_Price'] = df1['Opeaning_Price'].round(2)"
   ]
  },
  {
   "cell_type": "code",
   "execution_count": 302,
   "id": "5eb8c274",
   "metadata": {},
   "outputs": [
    {
     "data": {
      "text/html": [
       "<div>\n",
       "<style scoped>\n",
       "    .dataframe tbody tr th:only-of-type {\n",
       "        vertical-align: middle;\n",
       "    }\n",
       "\n",
       "    .dataframe tbody tr th {\n",
       "        vertical-align: top;\n",
       "    }\n",
       "\n",
       "    .dataframe thead th {\n",
       "        text-align: right;\n",
       "    }\n",
       "</style>\n",
       "<table border=\"1\" class=\"dataframe\">\n",
       "  <thead>\n",
       "    <tr style=\"text-align: right;\">\n",
       "      <th></th>\n",
       "      <th>Date</th>\n",
       "      <th>Closing_Price</th>\n",
       "      <th>Heighest_Price</th>\n",
       "      <th>Lowest_Price</th>\n",
       "      <th>Opeaning_Price</th>\n",
       "      <th>Treading_Volume</th>\n",
       "    </tr>\n",
       "  </thead>\n",
       "  <tbody>\n",
       "    <tr>\n",
       "      <th>0</th>\n",
       "      <td>2020-01-02</td>\n",
       "      <td>72.72</td>\n",
       "      <td>72.78</td>\n",
       "      <td>71.47</td>\n",
       "      <td>71.72</td>\n",
       "      <td>135480400</td>\n",
       "    </tr>\n",
       "    <tr>\n",
       "      <th>1</th>\n",
       "      <td>2020-01-03</td>\n",
       "      <td>72.01</td>\n",
       "      <td>72.77</td>\n",
       "      <td>71.78</td>\n",
       "      <td>71.94</td>\n",
       "      <td>146322800</td>\n",
       "    </tr>\n",
       "    <tr>\n",
       "      <th>2</th>\n",
       "      <td>2020-01-06</td>\n",
       "      <td>72.58</td>\n",
       "      <td>72.62</td>\n",
       "      <td>70.88</td>\n",
       "      <td>71.13</td>\n",
       "      <td>118387200</td>\n",
       "    </tr>\n",
       "    <tr>\n",
       "      <th>3</th>\n",
       "      <td>2020-01-07</td>\n",
       "      <td>72.24</td>\n",
       "      <td>72.85</td>\n",
       "      <td>72.02</td>\n",
       "      <td>72.59</td>\n",
       "      <td>108872000</td>\n",
       "    </tr>\n",
       "    <tr>\n",
       "      <th>4</th>\n",
       "      <td>2020-01-08</td>\n",
       "      <td>73.40</td>\n",
       "      <td>73.71</td>\n",
       "      <td>71.94</td>\n",
       "      <td>71.94</td>\n",
       "      <td>132079200</td>\n",
       "    </tr>\n",
       "    <tr>\n",
       "      <th>...</th>\n",
       "      <td>...</td>\n",
       "      <td>...</td>\n",
       "      <td>...</td>\n",
       "      <td>...</td>\n",
       "      <td>...</td>\n",
       "      <td>...</td>\n",
       "    </tr>\n",
       "    <tr>\n",
       "      <th>1253</th>\n",
       "      <td>2024-12-24</td>\n",
       "      <td>257.92</td>\n",
       "      <td>257.93</td>\n",
       "      <td>255.01</td>\n",
       "      <td>255.21</td>\n",
       "      <td>23234700</td>\n",
       "    </tr>\n",
       "    <tr>\n",
       "      <th>1254</th>\n",
       "      <td>2024-12-26</td>\n",
       "      <td>258.74</td>\n",
       "      <td>259.81</td>\n",
       "      <td>257.35</td>\n",
       "      <td>257.91</td>\n",
       "      <td>27237100</td>\n",
       "    </tr>\n",
       "    <tr>\n",
       "      <th>1255</th>\n",
       "      <td>2024-12-27</td>\n",
       "      <td>255.31</td>\n",
       "      <td>258.42</td>\n",
       "      <td>252.78</td>\n",
       "      <td>257.55</td>\n",
       "      <td>42355300</td>\n",
       "    </tr>\n",
       "    <tr>\n",
       "      <th>1256</th>\n",
       "      <td>2024-12-30</td>\n",
       "      <td>251.92</td>\n",
       "      <td>253.22</td>\n",
       "      <td>250.47</td>\n",
       "      <td>251.95</td>\n",
       "      <td>35557500</td>\n",
       "    </tr>\n",
       "    <tr>\n",
       "      <th>1257</th>\n",
       "      <td>2024-12-31</td>\n",
       "      <td>250.14</td>\n",
       "      <td>253.00</td>\n",
       "      <td>249.16</td>\n",
       "      <td>252.16</td>\n",
       "      <td>39480700</td>\n",
       "    </tr>\n",
       "  </tbody>\n",
       "</table>\n",
       "<p>1258 rows × 6 columns</p>\n",
       "</div>"
      ],
      "text/plain": [
       "           Date  Closing_Price  Heighest_Price  Lowest_Price  Opeaning_Price  \\\n",
       "0    2020-01-02          72.72           72.78         71.47           71.72   \n",
       "1    2020-01-03          72.01           72.77         71.78           71.94   \n",
       "2    2020-01-06          72.58           72.62         70.88           71.13   \n",
       "3    2020-01-07          72.24           72.85         72.02           72.59   \n",
       "4    2020-01-08          73.40           73.71         71.94           71.94   \n",
       "...         ...            ...             ...           ...             ...   \n",
       "1253 2024-12-24         257.92          257.93        255.01          255.21   \n",
       "1254 2024-12-26         258.74          259.81        257.35          257.91   \n",
       "1255 2024-12-27         255.31          258.42        252.78          257.55   \n",
       "1256 2024-12-30         251.92          253.22        250.47          251.95   \n",
       "1257 2024-12-31         250.14          253.00        249.16          252.16   \n",
       "\n",
       "      Treading_Volume  \n",
       "0           135480400  \n",
       "1           146322800  \n",
       "2           118387200  \n",
       "3           108872000  \n",
       "4           132079200  \n",
       "...               ...  \n",
       "1253         23234700  \n",
       "1254         27237100  \n",
       "1255         42355300  \n",
       "1256         35557500  \n",
       "1257         39480700  \n",
       "\n",
       "[1258 rows x 6 columns]"
      ]
     },
     "execution_count": 302,
     "metadata": {},
     "output_type": "execute_result"
    }
   ],
   "source": [
    "df1.columns = df1.columns.str.strip()\n",
    "df1"
   ]
  },
  {
   "cell_type": "markdown",
   "id": "c3fe8805",
   "metadata": {},
   "source": [
    "### Cheacking for outliers\n",
    "Extreme stock prices or trading volumes might be errors or anomalies"
   ]
  },
  {
   "cell_type": "code",
   "execution_count": 303,
   "id": "f464e051",
   "metadata": {},
   "outputs": [],
   "source": [
    "import seaborn as sns\n",
    "import matplotlib.pyplot as plt\n",
    "import numpy as np"
   ]
  },
  {
   "cell_type": "code",
   "execution_count": 304,
   "id": "09a23ff9",
   "metadata": {},
   "outputs": [
    {
     "data": {
      "image/png": "[encoded data removed]",
      "text/plain": [
       "<Figure size 1000x500 with 1 Axes>"
      ]
     },
     "metadata": {},
     "output_type": "display_data"
    }
   ],
   "source": [
    "#using the box plot\n",
    "plt.figure(figsize = (10, 5 ))\n",
    "sns.boxplot(data=df[['Opeaning_Price', 'Lowest_Price', 'Heighest_Price', 'Closing_Price']])\n",
    "plt.title(\"Box Plot for Stock Price\")\n",
    "plt.show()\n"
   ]
  },
  {
   "cell_type": "markdown",
   "id": "e2ffa63d",
   "metadata": {},
   "source": [
    "### Observations from Your Plot: \n",
    "1) The distrubution for all variables are similler\n",
    "2) There are some outliers in the stock price that mean theare were some extreme stock Price Exchange\n",
    "3) The median is almost at the same level for all variable that mean the stock price flucation in same range "
   ]
  },
  {
   "cell_type": "markdown",
   "id": "666cb4f6",
   "metadata": {},
   "source": [
    "Potential Problem Statements for Your Financial Data Analysis Project:\n",
    "\n",
    "Stock Price Trend Analysis:\n",
    "How has Apple's stock price changed over time?\n",
    "Can we identify bullish and bearish trends in Apple's stock movements?\n",
    "\n",
    "Volatility Analysis:\n",
    "What is the volatility of Apple's stock over different time periods (daily, weekly, monthly)?\n",
    "How does trading volume correlate with stock price fluctuations?\n",
    "\n",
    "Moving Averages & Technical Indicators:\n",
    "Can we use moving averages (e.g., 50-day & 200-day) to predict price trends?\n",
    "How do technical indicators like RSI (Relative Strength Index) and MACD (Moving Average Convergence Divergence) help in decision-making?\n",
    "\n",
    "Impact of Trading Volume on Stock Price:\n",
    "Does a sudden increase in trading volume lead to significant price changes?\n",
    "How does the relationship between trading volume and volatility behave?\n",
    "\n",
    "Predictive Modeling for Future Prices:\n",
    "Can we use historical data to build a machine learning model that predicts future stock prices?\n",
    "How accurate are time-series models like ARIMA or LSTM in forecasting Apple's stock price?\n",
    "\n"
   ]
  },
  {
   "cell_type": "markdown",
   "id": "3997eb4f",
   "metadata": {},
   "source": [
    "# Problem Statement: Stock Price Trend Analysis "
   ]
  },
  {
   "cell_type": "markdown",
   "id": "8277d6ef",
   "metadata": {},
   "source": [
    "## Objective:\n",
    "To analyze the historical stock price trends of Apple Inc. and identify patterns, fluctuations, and significant movements over time. The goal is to determine trends, seasonality, and potential factors influencing stock price changes."
   ]
  },
  {
   "cell_type": "markdown",
   "id": "91e11cd0",
   "metadata": {},
   "source": [
    "### EDA "
   ]
  },
  {
   "cell_type": "code",
   "execution_count": 305,
   "id": "9e12ded8",
   "metadata": {},
   "outputs": [],
   "source": [
    "new_order = ['Date', 'Opeaning_Price', 'Lowest_Price', 'Heighest_Price', 'Closing_Price', 'Treading_Volume']\n",
    "df1 = df1[new_order]"
   ]
  },
  {
   "cell_type": "code",
   "execution_count": 306,
   "id": "2a166e8d",
   "metadata": {},
   "outputs": [
    {
     "data": {
      "text/html": [
       "<div>\n",
       "<style scoped>\n",
       "    .dataframe tbody tr th:only-of-type {\n",
       "        vertical-align: middle;\n",
       "    }\n",
       "\n",
       "    .dataframe tbody tr th {\n",
       "        vertical-align: top;\n",
       "    }\n",
       "\n",
       "    .dataframe thead th {\n",
       "        text-align: right;\n",
       "    }\n",
       "</style>\n",
       "<table border=\"1\" class=\"dataframe\">\n",
       "  <thead>\n",
       "    <tr style=\"text-align: right;\">\n",
       "      <th></th>\n",
       "      <th>Date</th>\n",
       "      <th>Opeaning_Price</th>\n",
       "      <th>Lowest_Price</th>\n",
       "      <th>Heighest_Price</th>\n",
       "      <th>Closing_Price</th>\n",
       "      <th>Treading_Volume</th>\n",
       "    </tr>\n",
       "  </thead>\n",
       "  <tbody>\n",
       "    <tr>\n",
       "      <th>count</th>\n",
       "      <td>1258</td>\n",
       "      <td>1258.000000</td>\n",
       "      <td>1258.000000</td>\n",
       "      <td>1258.000000</td>\n",
       "      <td>1258.000000</td>\n",
       "      <td>1.258000e+03</td>\n",
       "    </tr>\n",
       "    <tr>\n",
       "      <th>mean</th>\n",
       "      <td>2022-07-01 15:39:46.645468928</td>\n",
       "      <td>152.022560</td>\n",
       "      <td>150.471741</td>\n",
       "      <td>153.707289</td>\n",
       "      <td>152.177822</td>\n",
       "      <td>9.057384e+07</td>\n",
       "    </tr>\n",
       "    <tr>\n",
       "      <th>min</th>\n",
       "      <td>2020-01-02 00:00:00</td>\n",
       "      <td>55.350000</td>\n",
       "      <td>51.600000</td>\n",
       "      <td>55.450000</td>\n",
       "      <td>54.450000</td>\n",
       "      <td>2.323470e+07</td>\n",
       "    </tr>\n",
       "    <tr>\n",
       "      <th>25%</th>\n",
       "      <td>2021-04-02 00:00:00</td>\n",
       "      <td>126.390000</td>\n",
       "      <td>124.935000</td>\n",
       "      <td>128.072500</td>\n",
       "      <td>126.947500</td>\n",
       "      <td>5.546825e+07</td>\n",
       "    </tr>\n",
       "    <tr>\n",
       "      <th>50%</th>\n",
       "      <td>2022-06-30 12:00:00</td>\n",
       "      <td>150.580000</td>\n",
       "      <td>148.820000</td>\n",
       "      <td>152.510000</td>\n",
       "      <td>150.760000</td>\n",
       "      <td>7.627980e+07</td>\n",
       "    </tr>\n",
       "    <tr>\n",
       "      <th>75%</th>\n",
       "      <td>2023-10-01 06:00:00</td>\n",
       "      <td>176.640000</td>\n",
       "      <td>175.262500</td>\n",
       "      <td>178.387500</td>\n",
       "      <td>176.830000</td>\n",
       "      <td>1.077425e+08</td>\n",
       "    </tr>\n",
       "    <tr>\n",
       "      <th>max</th>\n",
       "      <td>2024-12-31 00:00:00</td>\n",
       "      <td>257.910000</td>\n",
       "      <td>257.350000</td>\n",
       "      <td>259.810000</td>\n",
       "      <td>258.740000</td>\n",
       "      <td>4.265100e+08</td>\n",
       "    </tr>\n",
       "    <tr>\n",
       "      <th>std</th>\n",
       "      <td>NaN</td>\n",
       "      <td>42.016641</td>\n",
       "      <td>41.849293</td>\n",
       "      <td>42.214216</td>\n",
       "      <td>42.073049</td>\n",
       "      <td>5.325460e+07</td>\n",
       "    </tr>\n",
       "  </tbody>\n",
       "</table>\n",
       "</div>"
      ],
      "text/plain": [
       "                                Date  Opeaning_Price  Lowest_Price  \\\n",
       "count                           1258     1258.000000   1258.000000   \n",
       "mean   2022-07-01 15:39:46.645468928      152.022560    150.471741   \n",
       "min              2020-01-02 00:00:00       55.350000     51.600000   \n",
       "25%              2021-04-02 00:00:00      126.390000    124.935000   \n",
       "50%              2022-06-30 12:00:00      150.580000    148.820000   \n",
       "75%              2023-10-01 06:00:00      176.640000    175.262500   \n",
       "max              2024-12-31 00:00:00      257.910000    257.350000   \n",
       "std                              NaN       42.016641     41.849293   \n",
       "\n",
       "       Heighest_Price  Closing_Price  Treading_Volume  \n",
       "count     1258.000000    1258.000000     1.258000e+03  \n",
       "mean       153.707289     152.177822     9.057384e+07  \n",
       "min         55.450000      54.450000     2.323470e+07  \n",
       "25%        128.072500     126.947500     5.546825e+07  \n",
       "50%        152.510000     150.760000     7.627980e+07  \n",
       "75%        178.387500     176.830000     1.077425e+08  \n",
       "max        259.810000     258.740000     4.265100e+08  \n",
       "std         42.214216      42.073049     5.325460e+07  "
      ]
     },
     "execution_count": 306,
     "metadata": {},
     "output_type": "execute_result"
    }
   ],
   "source": [
    "df1.describe()"
   ]
  },
  {
   "cell_type": "code",
   "execution_count": 307,
   "id": "7419d5f8",
   "metadata": {},
   "outputs": [
    {
     "data": {
      "text/plain": [
       "Opeaning_Price    150.58\n",
       "Lowest_Price      148.82\n",
       "Heighest_Price    152.51\n",
       "Closing_Price     150.76\n",
       "dtype: float64"
      ]
     },
     "execution_count": 307,
     "metadata": {},
     "output_type": "execute_result"
    }
   ],
   "source": [
    "df1[['Opeaning_Price', 'Lowest_Price', 'Heighest_Price', 'Closing_Price']].median()"
   ]
  },
  {
   "cell_type": "markdown",
   "id": "3ab6c623",
   "metadata": {},
   "source": [
    "### Conclusion from the EDA\n",
    "mean > median → The stock price distribution is right-skewed (a few very high prices are pulling the mean up)"
   ]
  },
  {
   "cell_type": "markdown",
   "id": "d5899656",
   "metadata": {},
   "source": [
    "## Line Chart: Closing Price Over Time\n",
    "Plotting the closing price over trend"
   ]
  },
  {
   "cell_type": "code",
   "execution_count": 308,
   "id": "c5078038",
   "metadata": {},
   "outputs": [
    {
     "data": {
      "image/png": "[encoded data removed]",
      "text/plain": [
       "<Figure size 1200x600 with 1 Axes>"
      ]
     },
     "metadata": {},
     "output_type": "display_data"
    }
   ],
   "source": [
    "plt.figure(figsize=(12, 6))\n",
    "plt.plot(df1['Date'], df1['Closing_Price'], label = 'Closing Price', color = 'blue')\n",
    "plt.xlabel('Date')\n",
    "plt.ylabel('Closing Price')\n",
    "plt.title('Apple Stock Closing prie over time')\n",
    "plt.legend()\n",
    "plt.grid(True)\n",
    "plt.show()"
   ]
  },
  {
   "cell_type": "markdown",
   "id": "b592d1ac",
   "metadata": {},
   "source": [
    "### Conclusion\n",
    "The Apple Stock closing price from 2020 to 2022 and 2023 to 2025 is increases over time it mean for that period of time its a bullish trend.\n",
    "but in 2022 to 2023 we see the slightly price decresing trend over time \n",
    "so i did some market research on it in a google and try to under why it happens\n"
   ]
  },
  {
   "cell_type": "markdown",
   "id": "0cad081e",
   "metadata": {},
   "source": [
    "From 2022 to 2023, Apple’s stock price dropped slightly due to several challenges:\n",
    "\n",
    "Economic slowdown : Rising interest rates raised fears of a recession, affecting tech stocks.\n",
    "\n",
    "Falling revenue : Apple’s sales declined for four straight quarters, the longest drop in 22 years.\n",
    "\n",
    "Tariff worries : Possible tariffs on Apple products made in China worried investors.\n",
    "\n",
    "Delayed AI features : Delays in AI updates for Siri raised concerns about iPhone sales.\n",
    "\n",
    "Weak iPhone demand : iPhone sales, especially in China, were lower than expected.\n",
    "\n",
    "Tech market decline : The entire tech sector saw a sell-off, pulling Apple’s stock down. "
   ]
  },
  {
   "cell_type": "markdown",
   "id": "32605fba",
   "metadata": {},
   "source": [
    "## Moving Averages (50-day & 200-day) "
   ]
  },
  {
   "cell_type": "code",
   "execution_count": 313,
   "id": "f20825ec",
   "metadata": {},
   "outputs": [
    {
     "data": {
      "text/html": [
       "<div>\n",
       "<style scoped>\n",
       "    .dataframe tbody tr th:only-of-type {\n",
       "        vertical-align: middle;\n",
       "    }\n",
       "\n",
       "    .dataframe tbody tr th {\n",
       "        vertical-align: top;\n",
       "    }\n",
       "\n",
       "    .dataframe thead th {\n",
       "        text-align: right;\n",
       "    }\n",
       "</style>\n",
       "<table border=\"1\" class=\"dataframe\">\n",
       "  <thead>\n",
       "    <tr style=\"text-align: right;\">\n",
       "      <th></th>\n",
       "      <th>Opeaning_Price</th>\n",
       "      <th>Lowest_Price</th>\n",
       "      <th>Heighest_Price</th>\n",
       "      <th>Closing_Price</th>\n",
       "      <th>Treading_Volume</th>\n",
       "      <th>MA50</th>\n",
       "      <th>MA200</th>\n",
       "    </tr>\n",
       "    <tr>\n",
       "      <th>Date</th>\n",
       "      <th></th>\n",
       "      <th></th>\n",
       "      <th></th>\n",
       "      <th></th>\n",
       "      <th></th>\n",
       "      <th></th>\n",
       "      <th></th>\n",
       "    </tr>\n",
       "  </thead>\n",
       "  <tbody>\n",
       "    <tr>\n",
       "      <th>2020-01-02</th>\n",
       "      <td>71.72</td>\n",
       "      <td>71.47</td>\n",
       "      <td>72.78</td>\n",
       "      <td>72.72</td>\n",
       "      <td>135480400</td>\n",
       "      <td>NaN</td>\n",
       "      <td>NaN</td>\n",
       "    </tr>\n",
       "    <tr>\n",
       "      <th>2020-01-03</th>\n",
       "      <td>71.94</td>\n",
       "      <td>71.78</td>\n",
       "      <td>72.77</td>\n",
       "      <td>72.01</td>\n",
       "      <td>146322800</td>\n",
       "      <td>NaN</td>\n",
       "      <td>NaN</td>\n",
       "    </tr>\n",
       "    <tr>\n",
       "      <th>2020-01-06</th>\n",
       "      <td>71.13</td>\n",
       "      <td>70.88</td>\n",
       "      <td>72.62</td>\n",
       "      <td>72.58</td>\n",
       "      <td>118387200</td>\n",
       "      <td>NaN</td>\n",
       "      <td>NaN</td>\n",
       "    </tr>\n",
       "    <tr>\n",
       "      <th>2020-01-07</th>\n",
       "      <td>72.59</td>\n",
       "      <td>72.02</td>\n",
       "      <td>72.85</td>\n",
       "      <td>72.24</td>\n",
       "      <td>108872000</td>\n",
       "      <td>NaN</td>\n",
       "      <td>NaN</td>\n",
       "    </tr>\n",
       "    <tr>\n",
       "      <th>2020-01-08</th>\n",
       "      <td>71.94</td>\n",
       "      <td>71.94</td>\n",
       "      <td>73.71</td>\n",
       "      <td>73.40</td>\n",
       "      <td>132079200</td>\n",
       "      <td>NaN</td>\n",
       "      <td>NaN</td>\n",
       "    </tr>\n",
       "    <tr>\n",
       "      <th>...</th>\n",
       "      <td>...</td>\n",
       "      <td>...</td>\n",
       "      <td>...</td>\n",
       "      <td>...</td>\n",
       "      <td>...</td>\n",
       "      <td>...</td>\n",
       "      <td>...</td>\n",
       "    </tr>\n",
       "    <tr>\n",
       "      <th>2024-12-24</th>\n",
       "      <td>255.21</td>\n",
       "      <td>255.01</td>\n",
       "      <td>257.93</td>\n",
       "      <td>257.92</td>\n",
       "      <td>23234700</td>\n",
       "      <td>235.5634</td>\n",
       "      <td>211.18215</td>\n",
       "    </tr>\n",
       "    <tr>\n",
       "      <th>2024-12-26</th>\n",
       "      <td>257.91</td>\n",
       "      <td>257.35</td>\n",
       "      <td>259.81</td>\n",
       "      <td>258.74</td>\n",
       "      <td>27237100</td>\n",
       "      <td>236.0714</td>\n",
       "      <td>211.61375</td>\n",
       "    </tr>\n",
       "    <tr>\n",
       "      <th>2024-12-27</th>\n",
       "      <td>257.55</td>\n",
       "      <td>252.78</td>\n",
       "      <td>258.42</td>\n",
       "      <td>255.31</td>\n",
       "      <td>42355300</td>\n",
       "      <td>236.5522</td>\n",
       "      <td>212.03865</td>\n",
       "    </tr>\n",
       "    <tr>\n",
       "      <th>2024-12-30</th>\n",
       "      <td>251.95</td>\n",
       "      <td>250.47</td>\n",
       "      <td>253.22</td>\n",
       "      <td>251.92</td>\n",
       "      <td>35557500</td>\n",
       "      <td>236.9578</td>\n",
       "      <td>212.43730</td>\n",
       "    </tr>\n",
       "    <tr>\n",
       "      <th>2024-12-31</th>\n",
       "      <td>252.16</td>\n",
       "      <td>249.16</td>\n",
       "      <td>253.00</td>\n",
       "      <td>250.14</td>\n",
       "      <td>39480700</td>\n",
       "      <td>237.2710</td>\n",
       "      <td>212.82895</td>\n",
       "    </tr>\n",
       "  </tbody>\n",
       "</table>\n",
       "<p>1258 rows × 7 columns</p>\n",
       "</div>"
      ],
      "text/plain": [
       "            Opeaning_Price  Lowest_Price  Heighest_Price  Closing_Price  \\\n",
       "Date                                                                      \n",
       "2020-01-02           71.72         71.47           72.78          72.72   \n",
       "2020-01-03           71.94         71.78           72.77          72.01   \n",
       "2020-01-06           71.13         70.88           72.62          72.58   \n",
       "2020-01-07           72.59         72.02           72.85          72.24   \n",
       "2020-01-08           71.94         71.94           73.71          73.40   \n",
       "...                    ...           ...             ...            ...   \n",
       "2024-12-24          255.21        255.01          257.93         257.92   \n",
       "2024-12-26          257.91        257.35          259.81         258.74   \n",
       "2024-12-27          257.55        252.78          258.42         255.31   \n",
       "2024-12-30          251.95        250.47          253.22         251.92   \n",
       "2024-12-31          252.16        249.16          253.00         250.14   \n",
       "\n",
       "            Treading_Volume      MA50      MA200  \n",
       "Date                                              \n",
       "2020-01-02        135480400       NaN        NaN  \n",
       "2020-01-03        146322800       NaN        NaN  \n",
       "2020-01-06        118387200       NaN        NaN  \n",
       "2020-01-07        108872000       NaN        NaN  \n",
       "2020-01-08        132079200       NaN        NaN  \n",
       "...                     ...       ...        ...  \n",
       "2024-12-24         23234700  235.5634  211.18215  \n",
       "2024-12-26         27237100  236.0714  211.61375  \n",
       "2024-12-27         42355300  236.5522  212.03865  \n",
       "2024-12-30         35557500  236.9578  212.43730  \n",
       "2024-12-31         39480700  237.2710  212.82895  \n",
       "\n",
       "[1258 rows x 7 columns]"
      ]
     },
     "execution_count": 313,
     "metadata": {},
     "output_type": "execute_result"
    }
   ],
   "source": [
    "# Here we have to see our data as yearly so that we create a copy of our data\n",
    "# and then set date sa index\n",
    "\n",
    "df2 = df1.copy()\n",
    "df2 = df2.set_index('Date')"
   ]
  },
  {
   "cell_type": "code",
   "execution_count": 314,
   "id": "40ee4948",
   "metadata": {},
   "outputs": [
    {
     "data": {
      "image/png": "[encoded data removed]",
      "text/plain": [
       "<Figure size 1200x600 with 1 Axes>"
      ]
     },
     "metadata": {},
     "output_type": "display_data"
    }
   ],
   "source": [
    "\n",
    "# calculate moving average\n",
    "df2['MA50'] = df2['Closing_Price'].rolling(window=50).mean()\n",
    "df2['MA200'] = df2['Closing_Price'].rolling(window=200).mean()\n",
    "\n",
    "plt.figure(figsize=(12,6))\n",
    "plt.plot(df2['Closing_Price'], label='Closing Price', color = 'blue', alpha=0.5)\n",
    "plt.plot(df2['MA50'], label='50 Days Moving_AVG', color = 'green')\n",
    "plt.plot(df2['MA200'], label='200 Days Moving_Avg', color = 'red')\n",
    "\n",
    "\n",
    "plt.title('Moving Averages (50-day & 200-day)')\n",
    "plt.xlabel('Date')\n",
    "plt.ylabel('Price')\n",
    "plt.legend()\n",
    "plt.grid(True)\n",
    "plt.show()"
   ]
  },
  {
   "cell_type": "markdown",
   "id": "376efc5c",
   "metadata": {},
   "source": [
    "### Conclusion \n",
    "\n",
    "As we can see that the MOVING AVERAGE for 50 Days is greater than the MOVING AVERAGE of 200 days that mean is a Bullish Trend\n",
    "\n",
    "That mean it suggesting the strong uptrend and the very good oppurnity for Buy the Stock "
   ]
  },
  {
   "cell_type": "raw",
   "id": "aae5c844",
   "metadata": {},
   "source": []
  },
  {
   "cell_type": "markdown",
   "id": "72ce0b50",
   "metadata": {},
   "source": [
    "# Statistical & Time Series Analysis\n"
   ]
  },
  {
   "cell_type": "markdown",
   "id": "94f93d8b",
   "metadata": {},
   "source": [
    "### 1) Daily Returns Analysis "
   ]
  },
  {
   "cell_type": "code",
   "execution_count": 333,
   "id": "4d6fb896",
   "metadata": {},
   "outputs": [
    {
     "data": {
      "text/html": [
       "<div>\n",
       "<style scoped>\n",
       "    .dataframe tbody tr th:only-of-type {\n",
       "        vertical-align: middle;\n",
       "    }\n",
       "\n",
       "    .dataframe tbody tr th {\n",
       "        vertical-align: top;\n",
       "    }\n",
       "\n",
       "    .dataframe thead th {\n",
       "        text-align: right;\n",
       "    }\n",
       "</style>\n",
       "<table border=\"1\" class=\"dataframe\">\n",
       "  <thead>\n",
       "    <tr style=\"text-align: right;\">\n",
       "      <th></th>\n",
       "      <th>Date</th>\n",
       "      <th>Opeaning_Price</th>\n",
       "      <th>Lowest_Price</th>\n",
       "      <th>Heighest_Price</th>\n",
       "      <th>Closing_Price</th>\n",
       "      <th>Treading_Volume</th>\n",
       "      <th>MA50</th>\n",
       "      <th>MA200</th>\n",
       "      <th>Volatility</th>\n",
       "      <th>Daily Returns</th>\n",
       "    </tr>\n",
       "  </thead>\n",
       "  <tbody>\n",
       "    <tr>\n",
       "      <th>0</th>\n",
       "      <td>2020-01-02</td>\n",
       "      <td>71.72</td>\n",
       "      <td>71.47</td>\n",
       "      <td>72.78</td>\n",
       "      <td>72.72</td>\n",
       "      <td>135480400</td>\n",
       "      <td>NaN</td>\n",
       "      <td>NaN</td>\n",
       "      <td>NaN</td>\n",
       "      <td>NaN</td>\n",
       "    </tr>\n",
       "    <tr>\n",
       "      <th>1</th>\n",
       "      <td>2020-01-03</td>\n",
       "      <td>71.94</td>\n",
       "      <td>71.78</td>\n",
       "      <td>72.77</td>\n",
       "      <td>72.01</td>\n",
       "      <td>146322800</td>\n",
       "      <td>NaN</td>\n",
       "      <td>NaN</td>\n",
       "      <td>NaN</td>\n",
       "      <td>-0.009763</td>\n",
       "    </tr>\n",
       "    <tr>\n",
       "      <th>2</th>\n",
       "      <td>2020-01-06</td>\n",
       "      <td>71.13</td>\n",
       "      <td>70.88</td>\n",
       "      <td>72.62</td>\n",
       "      <td>72.58</td>\n",
       "      <td>118387200</td>\n",
       "      <td>NaN</td>\n",
       "      <td>NaN</td>\n",
       "      <td>NaN</td>\n",
       "      <td>0.007916</td>\n",
       "    </tr>\n",
       "    <tr>\n",
       "      <th>3</th>\n",
       "      <td>2020-01-07</td>\n",
       "      <td>72.59</td>\n",
       "      <td>72.02</td>\n",
       "      <td>72.85</td>\n",
       "      <td>72.24</td>\n",
       "      <td>108872000</td>\n",
       "      <td>NaN</td>\n",
       "      <td>NaN</td>\n",
       "      <td>NaN</td>\n",
       "      <td>-0.004684</td>\n",
       "    </tr>\n",
       "    <tr>\n",
       "      <th>4</th>\n",
       "      <td>2020-01-08</td>\n",
       "      <td>71.94</td>\n",
       "      <td>71.94</td>\n",
       "      <td>73.71</td>\n",
       "      <td>73.40</td>\n",
       "      <td>132079200</td>\n",
       "      <td>NaN</td>\n",
       "      <td>NaN</td>\n",
       "      <td>NaN</td>\n",
       "      <td>0.016058</td>\n",
       "    </tr>\n",
       "  </tbody>\n",
       "</table>\n",
       "</div>"
      ],
      "text/plain": [
       "        Date  Opeaning_Price  Lowest_Price  Heighest_Price  Closing_Price  \\\n",
       "0 2020-01-02           71.72         71.47           72.78          72.72   \n",
       "1 2020-01-03           71.94         71.78           72.77          72.01   \n",
       "2 2020-01-06           71.13         70.88           72.62          72.58   \n",
       "3 2020-01-07           72.59         72.02           72.85          72.24   \n",
       "4 2020-01-08           71.94         71.94           73.71          73.40   \n",
       "\n",
       "   Treading_Volume  MA50  MA200  Volatility  Daily Returns  \n",
       "0        135480400   NaN    NaN         NaN            NaN  \n",
       "1        146322800   NaN    NaN         NaN      -0.009763  \n",
       "2        118387200   NaN    NaN         NaN       0.007916  \n",
       "3        108872000   NaN    NaN         NaN      -0.004684  \n",
       "4        132079200   NaN    NaN         NaN       0.016058  "
      ]
     },
     "execution_count": 333,
     "metadata": {},
     "output_type": "execute_result"
    }
   ],
   "source": [
    "df1['Daily Returns'] = df1['Closing_Price'].pct_change()\n",
    "df1.head()"
   ]
  },
  {
   "cell_type": "code",
   "execution_count": 324,
   "id": "9d211b33",
   "metadata": {},
   "outputs": [
    {
     "data": {
      "text/plain": [
       "0.0011820548303881782"
      ]
     },
     "execution_count": 324,
     "metadata": {},
     "output_type": "execute_result"
    }
   ],
   "source": [
    "mean_Daily_Return = df1['Daily Returns'].mean() "
   ]
  },
  {
   "cell_type": "markdown",
   "id": "73b129be",
   "metadata": {},
   "source": [
    "#### Conclusion\n",
    "The mean is Positive that mean the stock generally grows over time \n",
    "1) The Apple Stock Price increase approximatly 0.12% per day \n",
    "2) That mean its a good investment for a long-term invester"
   ]
  },
  {
   "cell_type": "markdown",
   "id": "51108fe9",
   "metadata": {},
   "source": [
    "### 2) Volatility Analysis "
   ]
  },
  {
   "cell_type": "code",
   "execution_count": 352,
   "id": "1d56a905",
   "metadata": {},
   "outputs": [
    {
     "data": {
      "text/plain": [
       "0.019955800810264435"
      ]
     },
     "execution_count": 352,
     "metadata": {},
     "output_type": "execute_result"
    }
   ],
   "source": [
    "# Daily volatility\n",
    "volatility_overall = df1['Daily Returns'].std()\n",
    "volatility_overall"
   ]
  },
  {
   "cell_type": "code",
   "execution_count": 353,
   "id": "8a1a1466",
   "metadata": {},
   "outputs": [],
   "source": [
    "# 30 days rolling volatility\n",
    "df1['Rolling_30D_Volatility'] = df1['Daily Returns'].rolling(window=30).std()"
   ]
  },
  {
   "cell_type": "code",
   "execution_count": null,
   "id": "a6dba956",
   "metadata": {},
   "outputs": [],
   "source": []
  },
  {
   "cell_type": "code",
   "execution_count": 354,
   "id": "2f5fea21",
   "metadata": {},
   "outputs": [
    {
     "data": {
      "image/png": "[encoded data removed]",
      "text/plain": [
       "<Figure size 1200x600 with 1 Axes>"
      ]
     },
     "metadata": {},
     "output_type": "display_data"
    }
   ],
   "source": [
    "# Ploting graph for 30-Day Rolling Volatility\n",
    "\n",
    "plt.figure(figsize = (12, 6))\n",
    "plt.plot(df1['Date'], df1['Rolling_30D_Volatility'], color = 'blue', label = 'Rolling_30D_Volatility')\n",
    "\n",
    "plt.axhline(y=volatility_overall, color='red', linestyle='dashed', label=\"Overall Volatility (~2%)\")\n",
    "\n",
    "plt.xlabel('Date')\n",
    "plt.ylabel('Volatility (Standard Deviation)')\n",
    "plt.title('30-Day Rolling Volatility')\n",
    "plt.legend()\n",
    "plt.show()"
   ]
  },
  {
   "cell_type": "markdown",
   "id": "cec79f26",
   "metadata": {},
   "source": [
    "### Conclusion\n",
    "High volatility in 2020 → High risk, but potential gains for traders.\n",
    "\n",
    "Stabilization in 2021-2022 → Good for long-term investors.\n",
    "\n",
    "Recent low volatility → Apple stock might be in a consolidation phase."
   ]
  },
  {
   "cell_type": "code",
   "execution_count": null,
   "id": "884f2880",
   "metadata": {},
   "outputs": [],
   "source": []
  }
 ],
 "metadata": {
  "kernelspec": {
   "display_name": "Python 3 (ipykernel)",
   "language": "python",
   "name": "python3"
  },
  "language_info": {
   "codemirror_mode": {
    "name": "ipython",
    "version": 3
   },
   "file_extension": ".py",
   "mimetype": "text/x-python",
   "name": "python",
   "nbconvert_exporter": "python",
   "pygments_lexer": "ipython3",
   "version": "3.11.5"
  }
 },
 "nbformat": 4,
 "nbformat_minor": 5
}
