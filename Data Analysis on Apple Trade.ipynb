{
 "cells": [
  {
   "cell_type": "markdown",
   "id": "a1298c62",
   "metadata": {},
   "source": [
    "Installing the yfinance libreary to extract the data from Yahoo Finance\n",
    "\n",
    "Yahoo Finance (yfinance): A great source for stock market data, including historical stock prices, dividends, and financial indicators"
   ]
  },
  {
   "cell_type": "markdown",
   "id": "cea54cdc",
   "metadata": {},
   "source": [
    "!pip install yfinance"
   ]
  },
  {
   "cell_type": "code",
   "execution_count": 86,
   "id": "b68f70a0",
   "metadata": {},
   "outputs": [],
   "source": [
    "import yfinance as yf\n",
    "import pandas as pd\n"
   ]
  },
  {
   "cell_type": "markdown",
   "id": "b7f35f8d",
   "metadata": {},
   "source": [
    "#### # Download stock data for Apple (AAPL) from 2020-01-01 to the current date\n"
   ]
  },
  {
   "cell_type": "code",
   "execution_count": 18,
   "id": "9a5937ce",
   "metadata": {},
   "outputs": [
    {
     "name": "stderr",
     "output_type": "stream",
     "text": [
      "[*********************100%***********************]  1 of 1 completed\n"
     ]
    }
   ],
   "source": [
    "data = yf.download('AAPL', start='2020-01-01', end='2025-01-01')\n"
   ]
  },
  {
   "cell_type": "code",
   "execution_count": 48,
   "id": "993e4b60",
   "metadata": {},
   "outputs": [],
   "source": []
  },
  {
   "cell_type": "code",
   "execution_count": 110,
   "id": "bce15171",
   "metadata": {},
   "outputs": [],
   "source": [
    "#Creating the dataframe\n",
    "df = pd.DataFrame(data)"
   ]
  },
  {
   "cell_type": "code",
   "execution_count": 100,
   "id": "e47dc5d0",
   "metadata": {},
   "outputs": [
    {
     "data": {
      "text/html": [
       "<div>\n",
       "<style scoped>\n",
       "    .dataframe tbody tr th:only-of-type {\n",
       "        vertical-align: middle;\n",
       "    }\n",
       "\n",
       "    .dataframe tbody tr th {\n",
       "        vertical-align: top;\n",
       "    }\n",
       "\n",
       "    .dataframe thead tr th {\n",
       "        text-align: left;\n",
       "    }\n",
       "\n",
       "    .dataframe thead tr:last-of-type th {\n",
       "        text-align: right;\n",
       "    }\n",
       "</style>\n",
       "<table border=\"1\" class=\"dataframe\">\n",
       "  <thead>\n",
       "    <tr>\n",
       "      <th>Price</th>\n",
       "      <th>Close</th>\n",
       "      <th>High</th>\n",
       "      <th>Low</th>\n",
       "      <th>Open</th>\n",
       "      <th>Volume</th>\n",
       "    </tr>\n",
       "    <tr>\n",
       "      <th>Ticker</th>\n",
       "      <th>AAPL</th>\n",
       "      <th>AAPL</th>\n",
       "      <th>AAPL</th>\n",
       "      <th>AAPL</th>\n",
       "      <th>AAPL</th>\n",
       "    </tr>\n",
       "    <tr>\n",
       "      <th>Date</th>\n",
       "      <th></th>\n",
       "      <th></th>\n",
       "      <th></th>\n",
       "      <th></th>\n",
       "      <th></th>\n",
       "    </tr>\n",
       "  </thead>\n",
       "  <tbody>\n",
       "    <tr>\n",
       "      <th>2020-01-02</th>\n",
       "      <td>72.716072</td>\n",
       "      <td>72.776598</td>\n",
       "      <td>71.466812</td>\n",
       "      <td>71.721019</td>\n",
       "      <td>135480400</td>\n",
       "    </tr>\n",
       "    <tr>\n",
       "      <th>2020-01-03</th>\n",
       "      <td>72.009117</td>\n",
       "      <td>72.771745</td>\n",
       "      <td>71.783962</td>\n",
       "      <td>71.941328</td>\n",
       "      <td>146322800</td>\n",
       "    </tr>\n",
       "    <tr>\n",
       "      <th>2020-01-06</th>\n",
       "      <td>72.582909</td>\n",
       "      <td>72.621646</td>\n",
       "      <td>70.876075</td>\n",
       "      <td>71.127866</td>\n",
       "      <td>118387200</td>\n",
       "    </tr>\n",
       "    <tr>\n",
       "      <th>2020-01-07</th>\n",
       "      <td>72.241554</td>\n",
       "      <td>72.849231</td>\n",
       "      <td>72.021238</td>\n",
       "      <td>72.592601</td>\n",
       "      <td>108872000</td>\n",
       "    </tr>\n",
       "    <tr>\n",
       "      <th>2020-01-08</th>\n",
       "      <td>73.403648</td>\n",
       "      <td>73.706279</td>\n",
       "      <td>71.943759</td>\n",
       "      <td>71.943759</td>\n",
       "      <td>132079200</td>\n",
       "    </tr>\n",
       "  </tbody>\n",
       "</table>\n",
       "</div>"
      ],
      "text/plain": [
       "Price           Close       High        Low       Open     Volume\n",
       "Ticker           AAPL       AAPL       AAPL       AAPL       AAPL\n",
       "Date                                                             \n",
       "2020-01-02  72.716072  72.776598  71.466812  71.721019  135480400\n",
       "2020-01-03  72.009117  72.771745  71.783962  71.941328  146322800\n",
       "2020-01-06  72.582909  72.621646  70.876075  71.127866  118387200\n",
       "2020-01-07  72.241554  72.849231  72.021238  72.592601  108872000\n",
       "2020-01-08  73.403648  73.706279  71.943759  71.943759  132079200"
      ]
     },
     "execution_count": 100,
     "metadata": {},
     "output_type": "execute_result"
    }
   ],
   "source": [
    "df.head()"
   ]
  },
  {
   "cell_type": "markdown",
   "id": "32fa1f94",
   "metadata": {},
   "source": [
    "### Understanding of Data\n",
    "#### This will give you historical stock data for Apple (AAPL) between the given start and end dates. The columns typically include:\n",
    "\n",
    "Open: The opening price.\n",
    "\n",
    "High: The highest price of the day.\n",
    "\n",
    "Low: The lowest price of the day.\n",
    "\n",
    "Close: The closing price.\n",
    "\n",
    "Volume: The trading volume."
   ]
  },
  {
   "cell_type": "markdown",
   "id": "10770bee",
   "metadata": {},
   "source": [
    "####  Volume: The trading volume. \n",
    "--> Trading volume is just the total number of items (like stocks, shares, or cryptocurrency) that are bought and sold in a certain period of time. It shows how much activity there is in the market for that item.\n",
    "\n",
    "For example, if 1000 shares of a stock are bought and sold today, the trading volume is 1000.\n",
    "\n",
    "High trading volume means there’s a lot of interest in that item, and low volume means fewer people are buying or selling it. It's useful for understanding how popular or active something is in the market."
   ]
  },
  {
   "cell_type": "code",
   "execution_count": 101,
   "id": "6301a574",
   "metadata": {},
   "outputs": [
    {
     "data": {
      "text/plain": [
       "MultiIndex([( 'Close', 'AAPL'),\n",
       "            (  'High', 'AAPL'),\n",
       "            (   'Low', 'AAPL'),\n",
       "            (  'Open', 'AAPL'),\n",
       "            ('Volume', 'AAPL')],\n",
       "           names=['Price', 'Ticker'])"
      ]
     },
     "execution_count": 101,
     "metadata": {},
     "output_type": "execute_result"
    }
   ],
   "source": [
    "df.columns"
   ]
  },
  {
   "cell_type": "markdown",
   "id": "d4907fa3",
   "metadata": {},
   "source": [
    "So, Its a multi_Index data we can also work with the multiIndex \n",
    "but we will convert it to single index \n",
    "\n",
    "(A MultiIndex in Pandas refers to an index with multiple levels (also called a hierarchical index) that allows you to represent and work with more complex data structures.)\n",
    "\n",
    "Before that lets create a copy of our Dataframe"
   ]
  },
  {
   "cell_type": "code",
   "execution_count": 111,
   "id": "aacfa6c5",
   "metadata": {},
   "outputs": [],
   "source": [
    "df1 = df.copy()"
   ]
  },
  {
   "cell_type": "code",
   "execution_count": 112,
   "id": "49c985eb",
   "metadata": {},
   "outputs": [],
   "source": [
    "# Convert MultiIndex columns to a single level by combining the names\n",
    "df1.columns = [' '.join(col) for col in df.columns]\n"
   ]
  },
  {
   "cell_type": "markdown",
   "id": "884d5f25",
   "metadata": {},
   "source": [
    "So now its a single Level data. Now, we can perform the analysis "
   ]
  },
  {
   "cell_type": "code",
   "execution_count": 113,
   "id": "4f23d3eb",
   "metadata": {},
   "outputs": [
    {
     "data": {
      "text/html": [
       "<div>\n",
       "<style scoped>\n",
       "    .dataframe tbody tr th:only-of-type {\n",
       "        vertical-align: middle;\n",
       "    }\n",
       "\n",
       "    .dataframe tbody tr th {\n",
       "        vertical-align: top;\n",
       "    }\n",
       "\n",
       "    .dataframe thead th {\n",
       "        text-align: right;\n",
       "    }\n",
       "</style>\n",
       "<table border=\"1\" class=\"dataframe\">\n",
       "  <thead>\n",
       "    <tr style=\"text-align: right;\">\n",
       "      <th></th>\n",
       "      <th>Close AAPL</th>\n",
       "      <th>High AAPL</th>\n",
       "      <th>Low AAPL</th>\n",
       "      <th>Open AAPL</th>\n",
       "      <th>Volume AAPL</th>\n",
       "    </tr>\n",
       "    <tr>\n",
       "      <th>Date</th>\n",
       "      <th></th>\n",
       "      <th></th>\n",
       "      <th></th>\n",
       "      <th></th>\n",
       "      <th></th>\n",
       "    </tr>\n",
       "  </thead>\n",
       "  <tbody>\n",
       "    <tr>\n",
       "      <th>2020-01-02</th>\n",
       "      <td>72.716072</td>\n",
       "      <td>72.776598</td>\n",
       "      <td>71.466812</td>\n",
       "      <td>71.721019</td>\n",
       "      <td>135480400</td>\n",
       "    </tr>\n",
       "    <tr>\n",
       "      <th>2020-01-03</th>\n",
       "      <td>72.009117</td>\n",
       "      <td>72.771745</td>\n",
       "      <td>71.783962</td>\n",
       "      <td>71.941328</td>\n",
       "      <td>146322800</td>\n",
       "    </tr>\n",
       "    <tr>\n",
       "      <th>2020-01-06</th>\n",
       "      <td>72.582909</td>\n",
       "      <td>72.621646</td>\n",
       "      <td>70.876075</td>\n",
       "      <td>71.127866</td>\n",
       "      <td>118387200</td>\n",
       "    </tr>\n",
       "    <tr>\n",
       "      <th>2020-01-07</th>\n",
       "      <td>72.241554</td>\n",
       "      <td>72.849231</td>\n",
       "      <td>72.021238</td>\n",
       "      <td>72.592601</td>\n",
       "      <td>108872000</td>\n",
       "    </tr>\n",
       "    <tr>\n",
       "      <th>2020-01-08</th>\n",
       "      <td>73.403648</td>\n",
       "      <td>73.706279</td>\n",
       "      <td>71.943759</td>\n",
       "      <td>71.943759</td>\n",
       "      <td>132079200</td>\n",
       "    </tr>\n",
       "  </tbody>\n",
       "</table>\n",
       "</div>"
      ],
      "text/plain": [
       "            Close AAPL  High AAPL   Low AAPL  Open AAPL  Volume AAPL\n",
       "Date                                                                \n",
       "2020-01-02   72.716072  72.776598  71.466812  71.721019    135480400\n",
       "2020-01-03   72.009117  72.771745  71.783962  71.941328    146322800\n",
       "2020-01-06   72.582909  72.621646  70.876075  71.127866    118387200\n",
       "2020-01-07   72.241554  72.849231  72.021238  72.592601    108872000\n",
       "2020-01-08   73.403648  73.706279  71.943759  71.943759    132079200"
      ]
     },
     "execution_count": 113,
     "metadata": {},
     "output_type": "execute_result"
    }
   ],
   "source": [
    "df1.head()"
   ]
  },
  {
   "cell_type": "markdown",
   "id": "465b820d",
   "metadata": {},
   "source": [
    "still date is a index but we dont want it \n",
    "\n",
    "Before that lets create a copy of dataframe "
   ]
  },
  {
   "cell_type": "code",
   "execution_count": 114,
   "id": "21619d30",
   "metadata": {},
   "outputs": [],
   "source": [
    "df1 = df1.reset_index()"
   ]
  },
  {
   "cell_type": "code",
   "execution_count": 115,
   "id": "69b7e9df",
   "metadata": {},
   "outputs": [
    {
     "data": {
      "text/html": [
       "<div>\n",
       "<style scoped>\n",
       "    .dataframe tbody tr th:only-of-type {\n",
       "        vertical-align: middle;\n",
       "    }\n",
       "\n",
       "    .dataframe tbody tr th {\n",
       "        vertical-align: top;\n",
       "    }\n",
       "\n",
       "    .dataframe thead th {\n",
       "        text-align: right;\n",
       "    }\n",
       "</style>\n",
       "<table border=\"1\" class=\"dataframe\">\n",
       "  <thead>\n",
       "    <tr style=\"text-align: right;\">\n",
       "      <th></th>\n",
       "      <th>Date</th>\n",
       "      <th>Close AAPL</th>\n",
       "      <th>High AAPL</th>\n",
       "      <th>Low AAPL</th>\n",
       "      <th>Open AAPL</th>\n",
       "      <th>Volume AAPL</th>\n",
       "    </tr>\n",
       "  </thead>\n",
       "  <tbody>\n",
       "    <tr>\n",
       "      <th>0</th>\n",
       "      <td>2020-01-02</td>\n",
       "      <td>72.716072</td>\n",
       "      <td>72.776598</td>\n",
       "      <td>71.466812</td>\n",
       "      <td>71.721019</td>\n",
       "      <td>135480400</td>\n",
       "    </tr>\n",
       "    <tr>\n",
       "      <th>1</th>\n",
       "      <td>2020-01-03</td>\n",
       "      <td>72.009117</td>\n",
       "      <td>72.771745</td>\n",
       "      <td>71.783962</td>\n",
       "      <td>71.941328</td>\n",
       "      <td>146322800</td>\n",
       "    </tr>\n",
       "    <tr>\n",
       "      <th>2</th>\n",
       "      <td>2020-01-06</td>\n",
       "      <td>72.582909</td>\n",
       "      <td>72.621646</td>\n",
       "      <td>70.876075</td>\n",
       "      <td>71.127866</td>\n",
       "      <td>118387200</td>\n",
       "    </tr>\n",
       "    <tr>\n",
       "      <th>3</th>\n",
       "      <td>2020-01-07</td>\n",
       "      <td>72.241554</td>\n",
       "      <td>72.849231</td>\n",
       "      <td>72.021238</td>\n",
       "      <td>72.592601</td>\n",
       "      <td>108872000</td>\n",
       "    </tr>\n",
       "    <tr>\n",
       "      <th>4</th>\n",
       "      <td>2020-01-08</td>\n",
       "      <td>73.403648</td>\n",
       "      <td>73.706279</td>\n",
       "      <td>71.943759</td>\n",
       "      <td>71.943759</td>\n",
       "      <td>132079200</td>\n",
       "    </tr>\n",
       "  </tbody>\n",
       "</table>\n",
       "</div>"
      ],
      "text/plain": [
       "        Date  Close AAPL  High AAPL   Low AAPL  Open AAPL  Volume AAPL\n",
       "0 2020-01-02   72.716072  72.776598  71.466812  71.721019    135480400\n",
       "1 2020-01-03   72.009117  72.771745  71.783962  71.941328    146322800\n",
       "2 2020-01-06   72.582909  72.621646  70.876075  71.127866    118387200\n",
       "3 2020-01-07   72.241554  72.849231  72.021238  72.592601    108872000\n",
       "4 2020-01-08   73.403648  73.706279  71.943759  71.943759    132079200"
      ]
     },
     "execution_count": 115,
     "metadata": {},
     "output_type": "execute_result"
    }
   ],
   "source": [
    "df1.head()"
   ]
  },
  {
   "cell_type": "code",
   "execution_count": null,
   "id": "705f869d",
   "metadata": {},
   "outputs": [],
   "source": []
  },
  {
   "cell_type": "code",
   "execution_count": 123,
   "id": "58247d8f",
   "metadata": {},
   "outputs": [],
   "source": []
  },
  {
   "cell_type": "markdown",
   "id": "086e3a3d",
   "metadata": {},
   "source": [
    "#### Chaning the column names "
   ]
  },
  {
   "cell_type": "code",
   "execution_count": 116,
   "id": "9d03eb42",
   "metadata": {},
   "outputs": [],
   "source": [
    "df1.columns = df1.columns.str.replace(' AAPL', '')"
   ]
  },
  {
   "cell_type": "code",
   "execution_count": 131,
   "id": "1e1e2f5a",
   "metadata": {},
   "outputs": [],
   "source": [
    "df1.rename(columns={'Close':'Closing_Price',\n",
    "                   'High': 'Heighest_Price',\n",
    "                   'Low':'Lowest_Price',\n",
    "                   'Open':'Opeaning Price',\n",
    "                   'Volume':'Treading_Volume'}, inplace = True)"
   ]
  },
  {
   "cell_type": "markdown",
   "id": "d5da18f6",
   "metadata": {},
   "source": [
    "### Saving the file to the PC  "
   ]
  },
  {
   "cell_type": "code",
   "execution_count": 133,
   "id": "09d16481",
   "metadata": {},
   "outputs": [
    {
     "data": {
      "text/html": [
       "<div>\n",
       "<style scoped>\n",
       "    .dataframe tbody tr th:only-of-type {\n",
       "        vertical-align: middle;\n",
       "    }\n",
       "\n",
       "    .dataframe tbody tr th {\n",
       "        vertical-align: top;\n",
       "    }\n",
       "\n",
       "    .dataframe thead th {\n",
       "        text-align: right;\n",
       "    }\n",
       "</style>\n",
       "<table border=\"1\" class=\"dataframe\">\n",
       "  <thead>\n",
       "    <tr style=\"text-align: right;\">\n",
       "      <th></th>\n",
       "      <th>Date</th>\n",
       "      <th>Closing_Price</th>\n",
       "      <th>Heighest_Price</th>\n",
       "      <th>Lowest_Price</th>\n",
       "      <th>Opeaning Price</th>\n",
       "      <th>Treading_Volume</th>\n",
       "    </tr>\n",
       "  </thead>\n",
       "  <tbody>\n",
       "    <tr>\n",
       "      <th>0</th>\n",
       "      <td>2020-01-02</td>\n",
       "      <td>72.716072</td>\n",
       "      <td>72.776598</td>\n",
       "      <td>71.466812</td>\n",
       "      <td>71.721019</td>\n",
       "      <td>135480400</td>\n",
       "    </tr>\n",
       "    <tr>\n",
       "      <th>1</th>\n",
       "      <td>2020-01-03</td>\n",
       "      <td>72.009117</td>\n",
       "      <td>72.771745</td>\n",
       "      <td>71.783962</td>\n",
       "      <td>71.941328</td>\n",
       "      <td>146322800</td>\n",
       "    </tr>\n",
       "    <tr>\n",
       "      <th>2</th>\n",
       "      <td>2020-01-06</td>\n",
       "      <td>72.582909</td>\n",
       "      <td>72.621646</td>\n",
       "      <td>70.876075</td>\n",
       "      <td>71.127866</td>\n",
       "      <td>118387200</td>\n",
       "    </tr>\n",
       "    <tr>\n",
       "      <th>3</th>\n",
       "      <td>2020-01-07</td>\n",
       "      <td>72.241554</td>\n",
       "      <td>72.849231</td>\n",
       "      <td>72.021238</td>\n",
       "      <td>72.592601</td>\n",
       "      <td>108872000</td>\n",
       "    </tr>\n",
       "    <tr>\n",
       "      <th>4</th>\n",
       "      <td>2020-01-08</td>\n",
       "      <td>73.403648</td>\n",
       "      <td>73.706279</td>\n",
       "      <td>71.943759</td>\n",
       "      <td>71.943759</td>\n",
       "      <td>132079200</td>\n",
       "    </tr>\n",
       "    <tr>\n",
       "      <th>...</th>\n",
       "      <td>...</td>\n",
       "      <td>...</td>\n",
       "      <td>...</td>\n",
       "      <td>...</td>\n",
       "      <td>...</td>\n",
       "      <td>...</td>\n",
       "    </tr>\n",
       "    <tr>\n",
       "      <th>1253</th>\n",
       "      <td>2024-12-24</td>\n",
       "      <td>257.916443</td>\n",
       "      <td>257.926411</td>\n",
       "      <td>255.009620</td>\n",
       "      <td>255.209412</td>\n",
       "      <td>23234700</td>\n",
       "    </tr>\n",
       "    <tr>\n",
       "      <th>1254</th>\n",
       "      <td>2024-12-26</td>\n",
       "      <td>258.735504</td>\n",
       "      <td>259.814335</td>\n",
       "      <td>257.347047</td>\n",
       "      <td>257.906429</td>\n",
       "      <td>27237100</td>\n",
       "    </tr>\n",
       "    <tr>\n",
       "      <th>1255</th>\n",
       "      <td>2024-12-27</td>\n",
       "      <td>255.309296</td>\n",
       "      <td>258.415896</td>\n",
       "      <td>252.782075</td>\n",
       "      <td>257.546826</td>\n",
       "      <td>42355300</td>\n",
       "    </tr>\n",
       "    <tr>\n",
       "      <th>1256</th>\n",
       "      <td>2024-12-30</td>\n",
       "      <td>251.923019</td>\n",
       "      <td>253.221595</td>\n",
       "      <td>250.474615</td>\n",
       "      <td>251.952985</td>\n",
       "      <td>35557500</td>\n",
       "    </tr>\n",
       "    <tr>\n",
       "      <th>1257</th>\n",
       "      <td>2024-12-31</td>\n",
       "      <td>250.144974</td>\n",
       "      <td>253.001833</td>\n",
       "      <td>249.156056</td>\n",
       "      <td>252.162760</td>\n",
       "      <td>39480700</td>\n",
       "    </tr>\n",
       "  </tbody>\n",
       "</table>\n",
       "<p>1258 rows × 6 columns</p>\n",
       "</div>"
      ],
      "text/plain": [
       "           Date  Closing_Price  Heighest_Price  Lowest_Price  Opeaning Price  \\\n",
       "0    2020-01-02      72.716072       72.776598     71.466812       71.721019   \n",
       "1    2020-01-03      72.009117       72.771745     71.783962       71.941328   \n",
       "2    2020-01-06      72.582909       72.621646     70.876075       71.127866   \n",
       "3    2020-01-07      72.241554       72.849231     72.021238       72.592601   \n",
       "4    2020-01-08      73.403648       73.706279     71.943759       71.943759   \n",
       "...         ...            ...             ...           ...             ...   \n",
       "1253 2024-12-24     257.916443      257.926411    255.009620      255.209412   \n",
       "1254 2024-12-26     258.735504      259.814335    257.347047      257.906429   \n",
       "1255 2024-12-27     255.309296      258.415896    252.782075      257.546826   \n",
       "1256 2024-12-30     251.923019      253.221595    250.474615      251.952985   \n",
       "1257 2024-12-31     250.144974      253.001833    249.156056      252.162760   \n",
       "\n",
       "      Treading_Volume  \n",
       "0           135480400  \n",
       "1           146322800  \n",
       "2           118387200  \n",
       "3           108872000  \n",
       "4           132079200  \n",
       "...               ...  \n",
       "1253         23234700  \n",
       "1254         27237100  \n",
       "1255         42355300  \n",
       "1256         35557500  \n",
       "1257         39480700  \n",
       "\n",
       "[1258 rows x 6 columns]"
      ]
     },
     "execution_count": 133,
     "metadata": {},
     "output_type": "execute_result"
    }
   ],
   "source": [
    "df1.to_csv(r'C:\\Users\\abhi\\Desktop\\Domain wise Project\\Financial Analysis\\Apple data extracted from yahoo/Apple_Data.CSV', index = False)"
   ]
  },
  {
   "cell_type": "code",
   "execution_count": 8,
   "id": "e503cb29",
   "metadata": {},
   "outputs": [],
   "source": [
    "file = pd.read_csv('Apple_Data.csv')"
   ]
  },
  {
   "cell_type": "code",
   "execution_count": 9,
   "id": "e5db3077",
   "metadata": {},
   "outputs": [],
   "source": [
    "df = pd.DataFrame(file)"
   ]
  },
  {
   "cell_type": "code",
   "execution_count": 10,
   "id": "2a4f2de5",
   "metadata": {},
   "outputs": [
    {
     "data": {
      "text/html": [
       "<div>\n",
       "<style scoped>\n",
       "    .dataframe tbody tr th:only-of-type {\n",
       "        vertical-align: middle;\n",
       "    }\n",
       "\n",
       "    .dataframe tbody tr th {\n",
       "        vertical-align: top;\n",
       "    }\n",
       "\n",
       "    .dataframe thead th {\n",
       "        text-align: right;\n",
       "    }\n",
       "</style>\n",
       "<table border=\"1\" class=\"dataframe\">\n",
       "  <thead>\n",
       "    <tr style=\"text-align: right;\">\n",
       "      <th></th>\n",
       "      <th>Date</th>\n",
       "      <th>Closing_Price</th>\n",
       "      <th>Heighest_Price</th>\n",
       "      <th>Lowest_Price</th>\n",
       "      <th>Opeaning Price</th>\n",
       "      <th>Treading_Volume</th>\n",
       "    </tr>\n",
       "  </thead>\n",
       "  <tbody>\n",
       "    <tr>\n",
       "      <th>0</th>\n",
       "      <td>2020-01-02</td>\n",
       "      <td>72.716072</td>\n",
       "      <td>72.776598</td>\n",
       "      <td>71.466812</td>\n",
       "      <td>71.721019</td>\n",
       "      <td>135480400</td>\n",
       "    </tr>\n",
       "    <tr>\n",
       "      <th>1</th>\n",
       "      <td>2020-01-03</td>\n",
       "      <td>72.009117</td>\n",
       "      <td>72.771745</td>\n",
       "      <td>71.783962</td>\n",
       "      <td>71.941328</td>\n",
       "      <td>146322800</td>\n",
       "    </tr>\n",
       "    <tr>\n",
       "      <th>2</th>\n",
       "      <td>2020-01-06</td>\n",
       "      <td>72.582909</td>\n",
       "      <td>72.621646</td>\n",
       "      <td>70.876075</td>\n",
       "      <td>71.127866</td>\n",
       "      <td>118387200</td>\n",
       "    </tr>\n",
       "    <tr>\n",
       "      <th>3</th>\n",
       "      <td>2020-01-07</td>\n",
       "      <td>72.241554</td>\n",
       "      <td>72.849231</td>\n",
       "      <td>72.021238</td>\n",
       "      <td>72.592601</td>\n",
       "      <td>108872000</td>\n",
       "    </tr>\n",
       "    <tr>\n",
       "      <th>4</th>\n",
       "      <td>2020-01-08</td>\n",
       "      <td>73.403648</td>\n",
       "      <td>73.706279</td>\n",
       "      <td>71.943759</td>\n",
       "      <td>71.943759</td>\n",
       "      <td>132079200</td>\n",
       "    </tr>\n",
       "  </tbody>\n",
       "</table>\n",
       "</div>"
      ],
      "text/plain": [
       "         Date  Closing_Price  Heighest_Price  Lowest_Price  Opeaning Price  \\\n",
       "0  2020-01-02      72.716072       72.776598     71.466812       71.721019   \n",
       "1  2020-01-03      72.009117       72.771745     71.783962       71.941328   \n",
       "2  2020-01-06      72.582909       72.621646     70.876075       71.127866   \n",
       "3  2020-01-07      72.241554       72.849231     72.021238       72.592601   \n",
       "4  2020-01-08      73.403648       73.706279     71.943759       71.943759   \n",
       "\n",
       "   Treading_Volume  \n",
       "0        135480400  \n",
       "1        146322800  \n",
       "2        118387200  \n",
       "3        108872000  \n",
       "4        132079200  "
      ]
     },
     "execution_count": 10,
     "metadata": {},
     "output_type": "execute_result"
    }
   ],
   "source": [
    "df.head()"
   ]
  },
  {
   "cell_type": "code",
   "execution_count": null,
   "id": "94454926",
   "metadata": {},
   "outputs": [],
   "source": []
  }
 ],
 "metadata": {
  "kernelspec": {
   "display_name": "Python 3 (ipykernel)",
   "language": "python",
   "name": "python3"
  },
  "language_info": {
   "codemirror_mode": {
    "name": "ipython",
    "version": 3
   },
   "file_extension": ".py",
   "mimetype": "text/x-python",
   "name": "python",
   "nbconvert_exporter": "python",
   "pygments_lexer": "ipython3",
   "version": "3.11.5"
  }
 },
 "nbformat": 4,
 "nbformat_minor": 5
}
